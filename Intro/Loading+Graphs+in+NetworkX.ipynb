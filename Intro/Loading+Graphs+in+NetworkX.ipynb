{
 "cells": [
  {
   "cell_type": "markdown",
   "metadata": {},
   "source": [
    "# Loading Graphs in NetworkX"
   ]
  },
  {
   "cell_type": "code",
   "execution_count": 2,
   "metadata": {},
   "outputs": [
    {
     "data": {
      "image/png": "[encoded data removed]",
      "text/plain": [
       "<Figure size 432x288 with 1 Axes>"
      ]
     },
     "metadata": {},
     "output_type": "display_data"
    }
   ],
   "source": [
    "import networkx as nx\n",
    "import numpy as np\n",
    "import pandas as pd\n",
    "import matplotlib.pyplot as plt\n",
    "# %matplotlib notebook\n",
    "\n",
    "# Instantiate the graph\n",
    "G1 = nx.Graph()\n",
    "# add node/edge pairs\n",
    "G1.add_edges_from([(0, 1),\n",
    "                   (0, 2),\n",
    "                   (0, 3),\n",
    "                   (0, 5),\n",
    "                   (1, 3),\n",
    "                   (1, 6),\n",
    "                   (3, 4),\n",
    "                   (4, 5),\n",
    "                   (4, 7),\n",
    "                   (5, 8),\n",
    "                   (8, 9)])\n",
    "\n",
    "# draw the network G1\n",
    "nx.draw_networkx(G1)"
   ]
  },
  {
   "cell_type": "markdown",
   "metadata": {},
   "source": [
    "### Adjacency List"
   ]
  },
  {
   "cell_type": "markdown",
   "metadata": {},
   "source": [
    "`G_adjlist.txt` is the adjaceny list representation of G1.\n",
    "\n",
    "It can be read as follows:\n",
    "* `0 1 2 3 5` $\\rightarrow$ node `0` is adjacent to nodes `1, 2, 3, 5`\n",
    "* `1 3 6` $\\rightarrow$ node `1` is (also) adjacent to nodes `3, 6`\n",
    "* `2` $\\rightarrow$ node `2` is (also) adjacent to no new nodes\n",
    "* `3 4` $\\rightarrow$ node `3` is (also) adjacent to node `4` \n",
    "\n",
    "and so on. Note that adjacencies are only accounted for once (e.g. node `2` is adjacent to node `0`, but node `0` is not listed in node `2`'s row, because that edge has already been accounted for in node `0`'s row)."
   ]
  },
  {
   "cell_type": "markdown",
   "metadata": {},
   "source": [
    "If we read in the adjacency list using `nx.read_adjlist`, we can see that it matches `G1`."
   ]
  },
  {
   "cell_type": "code",
   "execution_count": 5,
   "metadata": {},
   "outputs": [
    {
     "data": {
      "image/png": "[encoded data removed]",
      "text/plain": [
       "<Figure size 432x288 with 1 Axes>"
      ]
     },
     "metadata": {},
     "output_type": "display_data"
    }
   ],
   "source": [
    "G2 = nx.read_adjlist('G_adylist.txt', nodetype=int)\n",
    "G2.edges()\n",
    "nx.draw_networkx(G2)"
   ]
  },
  {
   "cell_type": "markdown",
   "metadata": {},
   "source": [
    "### Adjacency Matrix\n",
    "\n",
    "The elements in an adjacency matrix indicate whether pairs of vertices are adjacent or not in the graph. Each node has a corresponding row and column. For example, row `0`, column `1` corresponds to the edge between node `0` and node `1`.  \n",
    "\n",
    "Reading across row `0`, there is a '`1`' in columns `1`, `2`, `3`, and `5`, which indicates that node `0` is adjacent to nodes 1, 2, 3, and 5"
   ]
  },
  {
   "cell_type": "code",
   "execution_count": 6,
   "metadata": {},
   "outputs": [
    {
     "data": {
      "text/plain": [
       "array([[0, 1, 1, 1, 0, 1, 0, 0, 0, 0],\n",
       "       [1, 0, 0, 1, 0, 0, 1, 0, 0, 0],\n",
       "       [1, 0, 0, 0, 0, 0, 0, 0, 0, 0],\n",
       "       [1, 1, 0, 0, 1, 0, 0, 0, 0, 0],\n",
       "       [0, 0, 0, 1, 0, 1, 0, 1, 0, 0],\n",
       "       [1, 0, 0, 0, 1, 0, 0, 0, 1, 0],\n",
       "       [0, 1, 0, 0, 0, 0, 0, 0, 0, 0],\n",
       "       [0, 0, 0, 0, 1, 0, 0, 0, 0, 0],\n",
       "       [0, 0, 0, 0, 0, 1, 0, 0, 0, 1],\n",
       "       [0, 0, 0, 0, 0, 0, 0, 0, 1, 0]])"
      ]
     },
     "execution_count": 6,
     "metadata": {},
     "output_type": "execute_result"
    }
   ],
   "source": [
    "G_mat = np.array([[0, 1, 1, 1, 0, 1, 0, 0, 0, 0],\n",
    "                  [1, 0, 0, 1, 0, 0, 1, 0, 0, 0],\n",
    "                  [1, 0, 0, 0, 0, 0, 0, 0, 0, 0],\n",
    "                  [1, 1, 0, 0, 1, 0, 0, 0, 0, 0],\n",
    "                  [0, 0, 0, 1, 0, 1, 0, 1, 0, 0],\n",
    "                  [1, 0, 0, 0, 1, 0, 0, 0, 1, 0],\n",
    "                  [0, 1, 0, 0, 0, 0, 0, 0, 0, 0],\n",
    "                  [0, 0, 0, 0, 1, 0, 0, 0, 0, 0],\n",
    "                  [0, 0, 0, 0, 0, 1, 0, 0, 0, 1],\n",
    "                  [0, 0, 0, 0, 0, 0, 0, 0, 1, 0]])\n",
    "G_mat"
   ]
  },
  {
   "cell_type": "markdown",
   "metadata": {},
   "source": [
    "If we convert the adjacency matrix to a networkx graph using `nx.Graph`, we can see that it matches G1."
   ]
  },
  {
   "cell_type": "code",
   "execution_count": 7,
   "metadata": {},
   "outputs": [
    {
     "data": {
      "text/plain": [
       "EdgeView([(0, 1), (0, 2), (0, 3), (0, 5), (1, 3), (1, 6), (3, 4), (4, 5), (4, 7), (5, 8), (8, 9)])"
      ]
     },
     "execution_count": 7,
     "metadata": {},
     "output_type": "execute_result"
    }
   ],
   "source": [
    "G3 = nx.Graph(G_mat)\n",
    "G3.edges()"
   ]
  },
  {
   "cell_type": "markdown",
   "metadata": {},
   "source": [
    "### Edgelist"
   ]
  },
  {
   "cell_type": "markdown",
   "metadata": {},
   "source": [
    "The edge list format represents edge pairings in the first two columns. Additional edge attributes can be added in subsequent columns. Looking at `G_edgelist.txt` this is the same as the original graph `G1`, but now each edge has a weight. \n",
    "\n",
    "For example, from the first row, we can see the edge between nodes `0` and `1`, has a weight of `4`."
   ]
  },
  {
   "cell_type": "markdown",
   "metadata": {},
   "source": [
    "Using `read_edgelist` and passing in a list of tuples with the name and type of each edge attribute will create a graph with our desired edge attributes."
   ]
  },
  {
   "cell_type": "code",
   "execution_count": 35,
   "metadata": {},
   "outputs": [
    {
     "data": {
      "text/plain": [
       "{('0', '1'): Text(0.21653033787228754, 0.29820286305984967, '4'),\n",
       " ('0', '2'): Text(0.39304501590759794, 0.07985308837835954, '3'),\n",
       " ('0', '3'): Text(0.0888215753185338, 0.19211201983625026, '2'),\n",
       " ('0', '5'): Text(0.0737363549944562, -0.058494951501279674, '6'),\n",
       " ('1', '3'): Text(0.09233186586148479, 0.38048049597813094, '2'),\n",
       " ('1', '6'): Text(0.28578840097001906, 0.6535502099068328, '5'),\n",
       " ('3', '4'): Text(-0.1855639439291231, 0.16133240706657626, '3'),\n",
       " ('5', '4'): Text(-0.20064916425320067, -0.08927456427095369, '1'),\n",
       " ('5', '8'): Text(-0.0842522005289412, -0.44402364756350765, '6'),\n",
       " ('4', '7'): Text(-0.5133694050782092, 0.07342552290104948, '2'),\n",
       " ('8', '9'): Text(-0.11500189478306125, -0.8306115026032435, '1')}"
      ]
     },
     "execution_count": 35,
     "metadata": {},
     "output_type": "execute_result"
    },
    {
     "data": {
      "image/png": "[encoded data removed]",
      "text/plain": [
       "<Figure size 432x288 with 1 Axes>"
      ]
     },
     "metadata": {},
     "output_type": "display_data"
    }
   ],
   "source": [
    "G4 = nx.read_edgelist('G_edgelist.txt', data=[('Weight', int)])\n",
    "\n",
    "G4.edges(data=True)\n",
    "\n",
    "pos = nx.spring_layout(G4, seed=7)\n",
    "nx.draw_networkx_nodes(G4, pos)\n",
    "nx.draw_networkx_edges(G4, pos)\n",
    "nx.draw_networkx_labels(G4, pos, font_family=\"sans-serif\")\n",
    "edge_labels = nx.get_edge_attributes(G4, 'Weight')\n",
    "nx.draw_networkx_edge_labels(G4, pos, edge_labels)"
   ]
  },
  {
   "cell_type": "code",
   "execution_count": 44,
   "metadata": {},
   "outputs": [],
   "source": [
    "def draw_Weighted_Graph(G4, weig_name):\n",
    "    pos = nx.spring_layout(G4, seed=7)\n",
    "    nx.draw_networkx_nodes(G4, pos)\n",
    "    nx.draw_networkx_edges(G4, pos)\n",
    "    nx.draw_networkx_labels(G4, pos, font_family=\"sans-serif\")\n",
    "    edge_labels = nx.get_edge_attributes(G4, weig_name)\n",
    "    nx.draw_networkx_edge_labels(G4, pos, edge_labels)"
   ]
  },
  {
   "cell_type": "code",
   "execution_count": 30,
   "metadata": {},
   "outputs": [
    {
     "data": {
      "text/plain": [
       "[4, 3, 2, 6, 2, 5, 3, 1, 6, 2, 1]"
      ]
     },
     "execution_count": 30,
     "metadata": {},
     "output_type": "execute_result"
    }
   ],
   "source": [
    "list(nx.get_edge_attributes(G4, 'Weight').values())"
   ]
  },
  {
   "cell_type": "markdown",
   "metadata": {},
   "source": [
    "### Pandas DataFrame"
   ]
  },
  {
   "cell_type": "markdown",
   "metadata": {},
   "source": [
    "Graphs can also be created from pandas dataframes if they are in edge list format."
   ]
  },
  {
   "cell_type": "code",
   "execution_count": 36,
   "metadata": {},
   "outputs": [
    {
     "data": {
      "text/html": [
       "<div>\n",
       "<style scoped>\n",
       "    .dataframe tbody tr th:only-of-type {\n",
       "        vertical-align: middle;\n",
       "    }\n",
       "\n",
       "    .dataframe tbody tr th {\n",
       "        vertical-align: top;\n",
       "    }\n",
       "\n",
       "    .dataframe thead th {\n",
       "        text-align: right;\n",
       "    }\n",
       "</style>\n",
       "<table border=\"1\" class=\"dataframe\">\n",
       "  <thead>\n",
       "    <tr style=\"text-align: right;\">\n",
       "      <th></th>\n",
       "      <th>n1</th>\n",
       "      <th>n2</th>\n",
       "      <th>weight</th>\n",
       "    </tr>\n",
       "  </thead>\n",
       "  <tbody>\n",
       "    <tr>\n",
       "      <th>0</th>\n",
       "      <td>0</td>\n",
       "      <td>1</td>\n",
       "      <td>4</td>\n",
       "    </tr>\n",
       "    <tr>\n",
       "      <th>1</th>\n",
       "      <td>0</td>\n",
       "      <td>2</td>\n",
       "      <td>3</td>\n",
       "    </tr>\n",
       "    <tr>\n",
       "      <th>2</th>\n",
       "      <td>0</td>\n",
       "      <td>3</td>\n",
       "      <td>2</td>\n",
       "    </tr>\n",
       "    <tr>\n",
       "      <th>3</th>\n",
       "      <td>0</td>\n",
       "      <td>5</td>\n",
       "      <td>6</td>\n",
       "    </tr>\n",
       "    <tr>\n",
       "      <th>4</th>\n",
       "      <td>1</td>\n",
       "      <td>3</td>\n",
       "      <td>2</td>\n",
       "    </tr>\n",
       "    <tr>\n",
       "      <th>5</th>\n",
       "      <td>1</td>\n",
       "      <td>6</td>\n",
       "      <td>5</td>\n",
       "    </tr>\n",
       "    <tr>\n",
       "      <th>6</th>\n",
       "      <td>3</td>\n",
       "      <td>4</td>\n",
       "      <td>3</td>\n",
       "    </tr>\n",
       "    <tr>\n",
       "      <th>7</th>\n",
       "      <td>4</td>\n",
       "      <td>5</td>\n",
       "      <td>1</td>\n",
       "    </tr>\n",
       "    <tr>\n",
       "      <th>8</th>\n",
       "      <td>4</td>\n",
       "      <td>7</td>\n",
       "      <td>2</td>\n",
       "    </tr>\n",
       "    <tr>\n",
       "      <th>9</th>\n",
       "      <td>5</td>\n",
       "      <td>8</td>\n",
       "      <td>6</td>\n",
       "    </tr>\n",
       "    <tr>\n",
       "      <th>10</th>\n",
       "      <td>8</td>\n",
       "      <td>9</td>\n",
       "      <td>1</td>\n",
       "    </tr>\n",
       "  </tbody>\n",
       "</table>\n",
       "</div>"
      ],
      "text/plain": [
       "    n1  n2  weight\n",
       "0    0   1       4\n",
       "1    0   2       3\n",
       "2    0   3       2\n",
       "3    0   5       6\n",
       "4    1   3       2\n",
       "5    1   6       5\n",
       "6    3   4       3\n",
       "7    4   5       1\n",
       "8    4   7       2\n",
       "9    5   8       6\n",
       "10   8   9       1"
      ]
     },
     "execution_count": 36,
     "metadata": {},
     "output_type": "execute_result"
    }
   ],
   "source": [
    "G_df = pd.read_csv('G_edgelist.txt', delim_whitespace=True, \n",
    "                   header=None, names=['n1', 'n2', 'weight'])\n",
    "G_df"
   ]
  },
  {
   "cell_type": "code",
   "execution_count": 45,
   "metadata": {},
   "outputs": [
    {
     "data": {
      "image/png": "[encoded data removed]",
      "text/plain": [
       "<Figure size 432x288 with 1 Axes>"
      ]
     },
     "metadata": {},
     "output_type": "display_data"
    }
   ],
   "source": [
    "G5 = nx.from_pandas_edgelist(G_df, 'n1', 'n2', edge_attr='weight')\n",
    "G5.edges(data=True)\n",
    "\n",
    "draw_Weighted_Graph(G5, 'weight')"
   ]
  },
  {
   "cell_type": "markdown",
   "metadata": {},
   "source": [
    "### Chess Example"
   ]
  },
  {
   "cell_type": "markdown",
   "metadata": {},
   "source": [
    "Now let's load in a more complex graph and perform some basic analysis on it.\n",
    "\n",
    "We will be looking at chess_graph.txt, which is a directed graph of chess games in edge list format."
   ]
  },
  {
   "cell_type": "markdown",
   "metadata": {},
   "source": [
    "Each node is a chess player, and each edge represents a game. The first column with an outgoing edge corresponds to the white player, the second column with an incoming edge corresponds to the black player.\n",
    "\n",
    "The third column, the weight of the edge, corresponds to the outcome of the game. A weight of 1 indicates white won, a 0 indicates a draw, and a -1 indicates black won.\n",
    "\n",
    "The fourth column corresponds to approximate timestamps of when the game was played.\n",
    "\n",
    "We can read in the chess graph using `read_edgelist`, and tell it to create the graph using a `nx.MultiDiGraph`."
   ]
  },
  {
   "cell_type": "code",
   "execution_count": 47,
   "metadata": {
    "collapsed": true
   },
   "outputs": [],
   "source": [
    "chess = nx.read_edgelist('chess_graph.txt', data=[('outcome', int), ('timestamp', float)], \n",
    "                         create_using=nx.MultiDiGraph())"
   ]
  },
  {
   "cell_type": "code",
   "execution_count": 48,
   "metadata": {},
   "outputs": [
    {
     "data": {
      "text/plain": [
       "(True, True)"
      ]
     },
     "execution_count": 48,
     "metadata": {},
     "output_type": "execute_result"
    }
   ],
   "source": [
    "chess.is_directed(), chess.is_multigraph()"
   ]
  },
  {
   "cell_type": "code",
   "execution_count": 53,
   "metadata": {},
   "outputs": [
    {
     "data": {
      "text/plain": [
       "[('1', '2', {'outcome': 0, 'timestamp': 885635999.999997}),\n",
       " ('1', '3', {'outcome': 0, 'timestamp': 885635999.999997}),\n",
       " ('1', '4', {'outcome': 0, 'timestamp': 885635999.999997}),\n",
       " ('1', '5', {'outcome': 1, 'timestamp': 885635999.999997}),\n",
       " ('1', '6', {'outcome': 0, 'timestamp': 885635999.999997})]"
      ]
     },
     "execution_count": 53,
     "metadata": {},
     "output_type": "execute_result"
    }
   ],
   "source": [
    "list(chess.edges(data=True))[:5]"
   ]
  },
  {
   "cell_type": "markdown",
   "metadata": {},
   "source": [
    "Looking at the degree of each node, we can see how many games each person played. A dictionary is returned where each key is the player, and each value is the number of games played."
   ]
  },
  {
   "cell_type": "code",
   "execution_count": 69,
   "metadata": {
    "scrolled": true
   },
   "outputs": [
    {
     "data": {
      "text/plain": [
       "[('1', 48),\n",
       " ('2', 112),\n",
       " ('3', 85),\n",
       " ('4', 12),\n",
       " ('5', 18),\n",
       " ('6', 95),\n",
       " ('7', 9),\n",
       " ('8', 20),\n",
       " ('9', 142),\n",
       " ('10', 4)]"
      ]
     },
     "execution_count": 69,
     "metadata": {},
     "output_type": "execute_result"
    }
   ],
   "source": [
    "games_played = dict(chess.degree())\n",
    "list(games_played.items())[:10]"
   ]
  },
  {
   "cell_type": "markdown",
   "metadata": {},
   "source": [
    "Using list comprehension, we can find which player played the most games."
   ]
  },
  {
   "cell_type": "code",
   "execution_count": 70,
   "metadata": {},
   "outputs": [
    {
     "name": "stdout",
     "output_type": "stream",
     "text": [
      "player 461\n",
      "280 games\n"
     ]
    }
   ],
   "source": [
    "max_value = max(games_played.values())\n",
    "max_key, = [i for i in games_played.keys() if games_played[i] == max_value]\n",
    "\n",
    "print('player {}\\n{} games'.format(max_key, max_value))"
   ]
  },
  {
   "cell_type": "markdown",
   "metadata": {},
   "source": [
    "Let's use pandas to find out which players won the most games. First let's convert our graph to a DataFrame."
   ]
  },
  {
   "cell_type": "code",
   "execution_count": 71,
   "metadata": {},
   "outputs": [
    {
     "data": {
      "text/html": [
       "<div>\n",
       "<style scoped>\n",
       "    .dataframe tbody tr th:only-of-type {\n",
       "        vertical-align: middle;\n",
       "    }\n",
       "\n",
       "    .dataframe tbody tr th {\n",
       "        vertical-align: top;\n",
       "    }\n",
       "\n",
       "    .dataframe thead th {\n",
       "        text-align: right;\n",
       "    }\n",
       "</style>\n",
       "<table border=\"1\" class=\"dataframe\">\n",
       "  <thead>\n",
       "    <tr style=\"text-align: right;\">\n",
       "      <th></th>\n",
       "      <th>white</th>\n",
       "      <th>black</th>\n",
       "      <th>outcome</th>\n",
       "    </tr>\n",
       "  </thead>\n",
       "  <tbody>\n",
       "    <tr>\n",
       "      <th>0</th>\n",
       "      <td>1</td>\n",
       "      <td>2</td>\n",
       "      <td>{'outcome': 0, 'timestamp': 885635999.999997}</td>\n",
       "    </tr>\n",
       "    <tr>\n",
       "      <th>1</th>\n",
       "      <td>1</td>\n",
       "      <td>3</td>\n",
       "      <td>{'outcome': 0, 'timestamp': 885635999.999997}</td>\n",
       "    </tr>\n",
       "    <tr>\n",
       "      <th>2</th>\n",
       "      <td>1</td>\n",
       "      <td>4</td>\n",
       "      <td>{'outcome': 0, 'timestamp': 885635999.999997}</td>\n",
       "    </tr>\n",
       "    <tr>\n",
       "      <th>3</th>\n",
       "      <td>1</td>\n",
       "      <td>5</td>\n",
       "      <td>{'outcome': 1, 'timestamp': 885635999.999997}</td>\n",
       "    </tr>\n",
       "    <tr>\n",
       "      <th>4</th>\n",
       "      <td>1</td>\n",
       "      <td>6</td>\n",
       "      <td>{'outcome': 0, 'timestamp': 885635999.999997}</td>\n",
       "    </tr>\n",
       "  </tbody>\n",
       "</table>\n",
       "</div>"
      ],
      "text/plain": [
       "  white black                                        outcome\n",
       "0     1     2  {'outcome': 0, 'timestamp': 885635999.999997}\n",
       "1     1     3  {'outcome': 0, 'timestamp': 885635999.999997}\n",
       "2     1     4  {'outcome': 0, 'timestamp': 885635999.999997}\n",
       "3     1     5  {'outcome': 1, 'timestamp': 885635999.999997}\n",
       "4     1     6  {'outcome': 0, 'timestamp': 885635999.999997}"
      ]
     },
     "execution_count": 71,
     "metadata": {},
     "output_type": "execute_result"
    }
   ],
   "source": [
    "df = pd.DataFrame(chess.edges(data=True), columns=['white', 'black', 'outcome'])\n",
    "df.head()"
   ]
  },
  {
   "cell_type": "markdown",
   "metadata": {},
   "source": [
    "Next we can use a lambda to pull out the outcome from the attributes dictionary."
   ]
  },
  {
   "cell_type": "code",
   "execution_count": 72,
   "metadata": {},
   "outputs": [
    {
     "data": {
      "text/html": [
       "<div>\n",
       "<style scoped>\n",
       "    .dataframe tbody tr th:only-of-type {\n",
       "        vertical-align: middle;\n",
       "    }\n",
       "\n",
       "    .dataframe tbody tr th {\n",
       "        vertical-align: top;\n",
       "    }\n",
       "\n",
       "    .dataframe thead th {\n",
       "        text-align: right;\n",
       "    }\n",
       "</style>\n",
       "<table border=\"1\" class=\"dataframe\">\n",
       "  <thead>\n",
       "    <tr style=\"text-align: right;\">\n",
       "      <th></th>\n",
       "      <th>white</th>\n",
       "      <th>black</th>\n",
       "      <th>outcome</th>\n",
       "    </tr>\n",
       "  </thead>\n",
       "  <tbody>\n",
       "    <tr>\n",
       "      <th>0</th>\n",
       "      <td>1</td>\n",
       "      <td>2</td>\n",
       "      <td>0</td>\n",
       "    </tr>\n",
       "    <tr>\n",
       "      <th>1</th>\n",
       "      <td>1</td>\n",
       "      <td>3</td>\n",
       "      <td>0</td>\n",
       "    </tr>\n",
       "    <tr>\n",
       "      <th>2</th>\n",
       "      <td>1</td>\n",
       "      <td>4</td>\n",
       "      <td>0</td>\n",
       "    </tr>\n",
       "    <tr>\n",
       "      <th>3</th>\n",
       "      <td>1</td>\n",
       "      <td>5</td>\n",
       "      <td>1</td>\n",
       "    </tr>\n",
       "    <tr>\n",
       "      <th>4</th>\n",
       "      <td>1</td>\n",
       "      <td>6</td>\n",
       "      <td>0</td>\n",
       "    </tr>\n",
       "  </tbody>\n",
       "</table>\n",
       "</div>"
      ],
      "text/plain": [
       "  white black  outcome\n",
       "0     1     2        0\n",
       "1     1     3        0\n",
       "2     1     4        0\n",
       "3     1     5        1\n",
       "4     1     6        0"
      ]
     },
     "execution_count": 72,
     "metadata": {},
     "output_type": "execute_result"
    }
   ],
   "source": [
    "df['outcome'] = df['outcome'].map(lambda x: x['outcome'])\n",
    "df.head()"
   ]
  },
  {
   "cell_type": "markdown",
   "metadata": {},
   "source": [
    "To count the number of times a player won as white, we find the rows where the outcome was '1', group by the white player, and sum.\n",
    "\n",
    "To count the number of times a player won as back, we find the rows where the outcome was '-1', group by the black player, sum, and multiply by -1.\n",
    "\n",
    "The we can add these together with a fill value of 0 for those players that only played as either black or white."
   ]
  },
  {
   "cell_type": "code",
   "execution_count": 75,
   "metadata": {
    "scrolled": true
   },
   "outputs": [
    {
     "data": {
      "text/html": [
       "<div>\n",
       "<style scoped>\n",
       "    .dataframe tbody tr th:only-of-type {\n",
       "        vertical-align: middle;\n",
       "    }\n",
       "\n",
       "    .dataframe tbody tr th {\n",
       "        vertical-align: top;\n",
       "    }\n",
       "\n",
       "    .dataframe thead th {\n",
       "        text-align: right;\n",
       "    }\n",
       "</style>\n",
       "<table border=\"1\" class=\"dataframe\">\n",
       "  <thead>\n",
       "    <tr style=\"text-align: right;\">\n",
       "      <th></th>\n",
       "      <th>outcome</th>\n",
       "    </tr>\n",
       "  </thead>\n",
       "  <tbody>\n",
       "    <tr>\n",
       "      <th>1</th>\n",
       "      <td>7.0</td>\n",
       "    </tr>\n",
       "    <tr>\n",
       "      <th>100</th>\n",
       "      <td>7.0</td>\n",
       "    </tr>\n",
       "    <tr>\n",
       "      <th>1000</th>\n",
       "      <td>1.0</td>\n",
       "    </tr>\n",
       "    <tr>\n",
       "      <th>1002</th>\n",
       "      <td>1.0</td>\n",
       "    </tr>\n",
       "    <tr>\n",
       "      <th>1003</th>\n",
       "      <td>5.0</td>\n",
       "    </tr>\n",
       "  </tbody>\n",
       "</table>\n",
       "</div>"
      ],
      "text/plain": [
       "      outcome\n",
       "1         7.0\n",
       "100       7.0\n",
       "1000      1.0\n",
       "1002      1.0\n",
       "1003      5.0"
      ]
     },
     "execution_count": 75,
     "metadata": {},
     "output_type": "execute_result"
    }
   ],
   "source": [
    "won_as_white = df[df['outcome']==1].groupby('white').sum()\n",
    "won_as_black = -df[df['outcome']==-1].groupby('black').sum()\n",
    "win_count = won_as_white.add(won_as_black, fill_value=0)\n",
    "win_count.head()"
   ]
  },
  {
   "cell_type": "markdown",
   "metadata": {},
   "source": [
    "Using `nlargest` we find that player 330 won the most games at 109."
   ]
  },
  {
   "cell_type": "code",
   "execution_count": 82,
   "metadata": {},
   "outputs": [
    {
     "data": {
      "text/html": [
       "<div>\n",
       "<style scoped>\n",
       "    .dataframe tbody tr th:only-of-type {\n",
       "        vertical-align: middle;\n",
       "    }\n",
       "\n",
       "    .dataframe tbody tr th {\n",
       "        vertical-align: top;\n",
       "    }\n",
       "\n",
       "    .dataframe thead th {\n",
       "        text-align: right;\n",
       "    }\n",
       "</style>\n",
       "<table border=\"1\" class=\"dataframe\">\n",
       "  <thead>\n",
       "    <tr style=\"text-align: right;\">\n",
       "      <th></th>\n",
       "      <th>outcome</th>\n",
       "    </tr>\n",
       "  </thead>\n",
       "  <tbody>\n",
       "    <tr>\n",
       "      <th>330</th>\n",
       "      <td>109.0</td>\n",
       "    </tr>\n",
       "  </tbody>\n",
       "</table>\n",
       "</div>"
      ],
      "text/plain": [
       "     outcome\n",
       "330    109.0"
      ]
     },
     "execution_count": 82,
     "metadata": {},
     "output_type": "execute_result"
    }
   ],
   "source": [
    "win_count[win_count['outcome'] == max(win_count['outcome'])]"
   ]
  }
 ],
 "metadata": {
  "kernelspec": {
   "display_name": "Python 3.9.7 ('base')",
   "language": "python",
   "name": "python3"
  },
  "language_info": {
   "codemirror_mode": {
    "name": "ipython",
    "version": 3
   },
   "file_extension": ".py",
   "mimetype": "text/x-python",
   "name": "python",
   "nbconvert_exporter": "python",
   "pygments_lexer": "ipython3",
   "version": "3.9.7"
  },
  "vscode": {
   "interpreter": {
    "hash": "258996d679d8e259ac990df9fdfc128ec5eb77c39bd98f0b9ba2b9004f62dd43"
   }
  }
 },
 "nbformat": 4,
 "nbformat_minor": 2
}
